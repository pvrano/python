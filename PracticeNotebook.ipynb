{
 "cells": [
  {
   "cell_type": "markdown",
   "id": "f7d48f44-d87e-47d9-b4b8-648ce920d352",
   "metadata": {},
   "source": [
    "String examples with print function practice"
   ]
  },
  {
   "cell_type": "code",
   "execution_count": 1,
   "id": "8bc59a95-7182-4044-a5dd-cb673a9723e0",
   "metadata": {},
   "outputs": [
    {
     "name": "stdout",
     "output_type": "stream",
     "text": [
      "Hello\n"
     ]
    }
   ],
   "source": [
    "print(\"Hello\")"
   ]
  },
  {
   "cell_type": "code",
   "execution_count": 2,
   "id": "737a56b6-4512-44c1-a937-089e351fecf6",
   "metadata": {},
   "outputs": [
    {
     "name": "stdout",
     "output_type": "stream",
     "text": [
      "priyanka\n"
     ]
    }
   ],
   "source": [
    "num = 12\n",
    "name = 'priyanka'\n",
    "print(name)"
   ]
  },
  {
   "cell_type": "code",
   "execution_count": 6,
   "id": "3fc4d36f-be51-499a-bc0a-2bf14097c885",
   "metadata": {},
   "outputs": [
    {
     "name": "stdout",
     "output_type": "stream",
     "text": [
      "my name is priyanka\n"
     ]
    }
   ],
   "source": [
    "print('my name is {}'.format(name))"
   ]
  },
  {
   "cell_type": "code",
   "execution_count": 8,
   "id": "01956332-9e72-4bbc-bda7-9796775f9edf",
   "metadata": {},
   "outputs": [
    {
     "name": "stdout",
     "output_type": "stream",
     "text": [
      "my name is priyanka and my age is 12\n"
     ]
    }
   ],
   "source": [
    "print('my name is {} and my age is {}'.format(name,num))"
   ]
  },
  {
   "cell_type": "code",
   "execution_count": 12,
   "id": "76bb33fe-1809-40b8-a810-c34a02c7c813",
   "metadata": {},
   "outputs": [
    {
     "name": "stdout",
     "output_type": "stream",
     "text": [
      "I am adding a new string 12 and my age is priyanka\n"
     ]
    }
   ],
   "source": [
    "print('I am adding a new string {one} and my age is {two}'.format(two=name,one=num))"
   ]
  },
  {
   "cell_type": "code",
   "execution_count": 14,
   "id": "9a606b3f-5465-4287-9c5c-f177bf75d81d",
   "metadata": {},
   "outputs": [
    {
     "data": {
      "text/plain": [
       "'a'"
      ]
     },
     "execution_count": 14,
     "metadata": {},
     "output_type": "execute_result"
    }
   ],
   "source": [
    "string = 'mynameispriyanka'\n",
    "string[3]"
   ]
  },
  {
   "cell_type": "code",
   "execution_count": 15,
   "id": "54d08c18-b460-4e91-82e2-d05c8b46b17d",
   "metadata": {},
   "outputs": [
    {
     "data": {
      "text/plain": [
       "'meispriyanka'"
      ]
     },
     "execution_count": 15,
     "metadata": {},
     "output_type": "execute_result"
    }
   ],
   "source": [
    "string[4:]"
   ]
  },
  {
   "cell_type": "code",
   "execution_count": 16,
   "id": "1af34ee1-567f-4448-94cf-f90d5a7d8b05",
   "metadata": {},
   "outputs": [
    {
     "data": {
      "text/plain": [
       "'ameis'"
      ]
     },
     "execution_count": 16,
     "metadata": {},
     "output_type": "execute_result"
    }
   ],
   "source": [
    "string[3:8]"
   ]
  },
  {
   "cell_type": "code",
   "execution_count": 17,
   "id": "73969b57-fe93-4cdf-aae7-c942e0b3125e",
   "metadata": {},
   "outputs": [
    {
     "data": {
      "text/plain": [
       "'mynameis'"
      ]
     },
     "execution_count": 17,
     "metadata": {},
     "output_type": "execute_result"
    }
   ],
   "source": [
    "string[:8]"
   ]
  },
  {
   "cell_type": "code",
   "execution_count": 18,
   "id": "947d1d73-67fd-4c73-86f1-5df284e54ea7",
   "metadata": {},
   "outputs": [
    {
     "data": {
      "text/plain": [
       "'mynameispriyanka'"
      ]
     },
     "execution_count": 18,
     "metadata": {},
     "output_type": "execute_result"
    }
   ],
   "source": [
    "string[:]"
   ]
  },
  {
   "cell_type": "code",
   "execution_count": 19,
   "id": "2fc988d0-fa0e-4d76-b11f-c9f4596d096c",
   "metadata": {},
   "outputs": [
    {
     "data": {
      "text/plain": [
       "'mynameispriyank'"
      ]
     },
     "execution_count": 19,
     "metadata": {},
     "output_type": "execute_result"
    }
   ],
   "source": [
    "string[:-1]"
   ]
  },
  {
   "cell_type": "code",
   "execution_count": 20,
   "id": "8684e2d1-ad92-4d86-8a8b-da8db113b7de",
   "metadata": {},
   "outputs": [
    {
     "data": {
      "text/plain": [
       "'a'"
      ]
     },
     "execution_count": 20,
     "metadata": {},
     "output_type": "execute_result"
    }
   ],
   "source": [
    "string[-1:]"
   ]
  },
  {
   "cell_type": "code",
   "execution_count": 21,
   "id": "fb635f3c-2cba-4061-9488-3c15e874e508",
   "metadata": {},
   "outputs": [
    {
     "data": {
      "text/plain": [
       "'aknayirpsiemanym'"
      ]
     },
     "execution_count": 21,
     "metadata": {},
     "output_type": "execute_result"
    }
   ],
   "source": [
    "string[::-1]"
   ]
  },
  {
   "cell_type": "markdown",
   "id": "56bb2b1e-9b3d-4004-8863-9ed068e848a7",
   "metadata": {},
   "source": [
    "Data structures like list, dictionary, tuple and set"
   ]
  },
  {
   "cell_type": "code",
   "execution_count": 24,
   "id": "28776825-b9a9-4fb4-b6fc-d89984e79a10",
   "metadata": {},
   "outputs": [],
   "source": [
    "[1,2,3]\n",
    "myList = ['a','b','c']"
   ]
  },
  {
   "cell_type": "code",
   "execution_count": 25,
   "id": "0473fa0b-9a6a-4f8a-a370-76b8428a90b2",
   "metadata": {},
   "outputs": [],
   "source": [
    "myList.append('d')"
   ]
  },
  {
   "cell_type": "code",
   "execution_count": 26,
   "id": "9f501905-e151-4410-921e-aa114400553f",
   "metadata": {},
   "outputs": [
    {
     "data": {
      "text/plain": [
       "['a', 'b', 'c', 'd']"
      ]
     },
     "execution_count": 26,
     "metadata": {},
     "output_type": "execute_result"
    }
   ],
   "source": [
    "myList"
   ]
  },
  {
   "cell_type": "code",
   "execution_count": 27,
   "id": "d4542eac-56b7-44e2-9924-94cab58605a4",
   "metadata": {},
   "outputs": [
    {
     "data": {
      "text/plain": [
       "'a'"
      ]
     },
     "execution_count": 27,
     "metadata": {},
     "output_type": "execute_result"
    }
   ],
   "source": [
    "myList[0]"
   ]
  },
  {
   "cell_type": "code",
   "execution_count": 29,
   "id": "35d11883-6790-4e79-be7e-768ea015619a",
   "metadata": {},
   "outputs": [
    {
     "data": {
      "text/plain": [
       "['c']"
      ]
     },
     "execution_count": 29,
     "metadata": {},
     "output_type": "execute_result"
    }
   ],
   "source": [
    "myList[2:3]"
   ]
  },
  {
   "cell_type": "code",
   "execution_count": 30,
   "id": "59b730c8-5021-458b-abec-fdb9d2a1aff7",
   "metadata": {},
   "outputs": [
    {
     "data": {
      "text/plain": [
       "['a', 'b', 'c']"
      ]
     },
     "execution_count": 30,
     "metadata": {},
     "output_type": "execute_result"
    }
   ],
   "source": [
    "myList[:3]"
   ]
  },
  {
   "cell_type": "code",
   "execution_count": 32,
   "id": "b76d1552-3c25-45c5-828f-b55ec85ffc0a",
   "metadata": {},
   "outputs": [
    {
     "data": {
      "text/plain": [
       "['a', 'f', 'c', 'd']"
      ]
     },
     "execution_count": 32,
     "metadata": {},
     "output_type": "execute_result"
    }
   ],
   "source": [
    "myList[1] = 'f'\n",
    "myList"
   ]
  },
  {
   "cell_type": "code",
   "execution_count": 55,
   "id": "b2333242-cd4c-4fb7-b6ea-27a2259aff5a",
   "metadata": {},
   "outputs": [],
   "source": [
    "nest = [1,2,3,[4,5,6,[7,8]]]"
   ]
  },
  {
   "cell_type": "code",
   "execution_count": 35,
   "id": "370f7fad-f5f0-42a7-96fa-ff1a93c38122",
   "metadata": {},
   "outputs": [
    {
     "data": {
      "text/plain": [
       "[4, 5, 6]"
      ]
     },
     "execution_count": 35,
     "metadata": {},
     "output_type": "execute_result"
    }
   ],
   "source": [
    "nest[3]"
   ]
  },
  {
   "cell_type": "code",
   "execution_count": 49,
   "id": "4a2a7c82-f882-451c-99ba-f864a551b05f",
   "metadata": {},
   "outputs": [
    {
     "data": {
      "text/plain": [
       "5"
      ]
     },
     "execution_count": 49,
     "metadata": {},
     "output_type": "execute_result"
    }
   ],
   "source": [
    "nest[3][1]"
   ]
  },
  {
   "cell_type": "code",
   "execution_count": 56,
   "id": "ca20ace1-7a68-42cd-af85-7ca0e94011cf",
   "metadata": {},
   "outputs": [
    {
     "name": "stdout",
     "output_type": "stream",
     "text": [
      "7\n"
     ]
    }
   ],
   "source": [
    "print(nest[3][3][0])"
   ]
  },
  {
   "cell_type": "code",
   "execution_count": 62,
   "id": "0f90fc6a-2cb1-4a53-99b1-9b99f43458da",
   "metadata": {},
   "outputs": [
    {
     "data": {
      "text/plain": [
       "2"
      ]
     },
     "execution_count": 62,
     "metadata": {},
     "output_type": "execute_result"
    }
   ],
   "source": [
    "d = {'key1':1,'key2':2}\n",
    "d\n",
    "d['key2']\n"
   ]
  },
  {
   "cell_type": "code",
   "execution_count": 64,
   "id": "c3e54ab5-65c3-484c-beb8-a473741fb036",
   "metadata": {},
   "outputs": [
    {
     "data": {
      "text/plain": [
       "2"
      ]
     },
     "execution_count": 64,
     "metadata": {},
     "output_type": "execute_result"
    }
   ],
   "source": [
    "d = {'k1':[1,2,3]}\n",
    "d['k1'][1]"
   ]
  },
  {
   "cell_type": "code",
   "execution_count": 69,
   "id": "474b587a-5af2-498e-8019-95de9ed0ca1e",
   "metadata": {},
   "outputs": [
    {
     "data": {
      "text/plain": [
       "3"
      ]
     },
     "execution_count": 69,
     "metadata": {},
     "output_type": "execute_result"
    }
   ],
   "source": [
    "ictionary = {'k1':{'innerKey':[1,2,3]}}\n",
    "ictionary['k1']['innerKey'][2]"
   ]
  },
  {
   "cell_type": "code",
   "execution_count": 70,
   "id": "baa43d74-4002-4200-830a-94e73e4a9490",
   "metadata": {},
   "outputs": [
    {
     "data": {
      "text/plain": [
       "True"
      ]
     },
     "execution_count": 70,
     "metadata": {},
     "output_type": "execute_result"
    }
   ],
   "source": [
    "bool = True\n",
    "bool"
   ]
  },
  {
   "cell_type": "markdown",
   "id": "f8c91239-114d-43b2-886a-4387a192c388",
   "metadata": {},
   "source": [
    "tuple is immutable means you cannot change the items inside it once added"
   ]
  },
  {
   "cell_type": "code",
   "execution_count": 73,
   "id": "97ce9783-da16-405b-bc64-294c3c9cd6ef",
   "metadata": {},
   "outputs": [],
   "source": [
    "t = ('l','k','l','a')"
   ]
  },
  {
   "cell_type": "markdown",
   "id": "110f00fd-fa24-43a0-bdcf-9d8eba48823f",
   "metadata": {},
   "source": [
    "this is a set"
   ]
  },
  {
   "cell_type": "code",
   "execution_count": 80,
   "id": "5d0e965f-98db-4421-b130-06df47702256",
   "metadata": {},
   "outputs": [
    {
     "data": {
      "text/plain": [
       "{1, 2, 3, 4, 5}"
      ]
     },
     "execution_count": 80,
     "metadata": {},
     "output_type": "execute_result"
    }
   ],
   "source": [
    "met = {1,2,3,3,4,4,4,4,5}\n",
    "met"
   ]
  },
  {
   "cell_type": "code",
   "execution_count": 82,
   "id": "904fb988-16f5-41e1-8c55-96271f4eaad0",
   "metadata": {},
   "outputs": [
    {
     "data": {
      "text/plain": [
       "{1, 2, 3, 4, 5, 8}"
      ]
     },
     "execution_count": 82,
     "metadata": {},
     "output_type": "execute_result"
    }
   ],
   "source": [
    "met.add(8)\n",
    "met\n"
   ]
  },
  {
   "cell_type": "code",
   "execution_count": 83,
   "id": "1570a3b7-ff6e-425f-8fea-a73325561fef",
   "metadata": {},
   "outputs": [
    {
     "data": {
      "text/plain": [
       "True"
      ]
     },
     "execution_count": 83,
     "metadata": {},
     "output_type": "execute_result"
    }
   ],
   "source": [
    "1<2"
   ]
  },
  {
   "cell_type": "code",
   "execution_count": 84,
   "id": "6ace8e26-a4c9-42f2-964b-3cc3841a7975",
   "metadata": {},
   "outputs": [
    {
     "data": {
      "text/plain": [
       "False"
      ]
     },
     "execution_count": 84,
     "metadata": {},
     "output_type": "execute_result"
    }
   ],
   "source": [
    "3<1"
   ]
  },
  {
   "cell_type": "code",
   "execution_count": 85,
   "id": "0b2554a3-6ec7-42fd-bf70-ed4438e052e0",
   "metadata": {},
   "outputs": [
    {
     "data": {
      "text/plain": [
       "True"
      ]
     },
     "execution_count": 85,
     "metadata": {},
     "output_type": "execute_result"
    }
   ],
   "source": [
    "4==4"
   ]
  },
  {
   "cell_type": "code",
   "execution_count": 87,
   "id": "1fa7d32f-1bc6-497a-a9ac-d60234f92294",
   "metadata": {},
   "outputs": [
    {
     "data": {
      "text/plain": [
       "True"
      ]
     },
     "execution_count": 87,
     "metadata": {},
     "output_type": "execute_result"
    }
   ],
   "source": [
    "4!=5"
   ]
  },
  {
   "cell_type": "code",
   "execution_count": 88,
   "id": "cedc7467-c82c-4132-8fa9-f4e9641eeccf",
   "metadata": {},
   "outputs": [
    {
     "name": "stdout",
     "output_type": "stream",
     "text": [
      "you are right\n"
     ]
    }
   ],
   "source": [
    "if 1<2:\n",
    "    print('you are right')"
   ]
  },
  {
   "cell_type": "code",
   "execution_count": 92,
   "id": "a2924b2f-c2e4-416e-b47e-b3475f53a1e5",
   "metadata": {},
   "outputs": [
    {
     "name": "stdout",
     "output_type": "stream",
     "text": [
      "yeah this elif works\n"
     ]
    }
   ],
   "source": [
    "if 2<1:\n",
    "    print('you are wrong')\n",
    "elif 2!=1:\n",
    "    print('yeah this elif works')\n",
    "else:\n",
    "    print('if did not execute')"
   ]
  },
  {
   "cell_type": "code",
   "execution_count": 90,
   "id": "02708d61-cea7-4832-8e3a-81ece52987e5",
   "metadata": {},
   "outputs": [
    {
     "name": "stdout",
     "output_type": "stream",
     "text": [
      "an infinite loop\n"
     ]
    }
   ],
   "source": [
    "if True:\n",
    "    print('an infinite loop')"
   ]
  },
  {
   "cell_type": "markdown",
   "id": "d6095df6-5ea7-4b43-8b43-59a16386e83a",
   "metadata": {},
   "source": [
    "for and while loops "
   ]
  },
  {
   "cell_type": "code",
   "execution_count": 93,
   "id": "a0f0d03b-b502-4b21-a144-8049f6942498",
   "metadata": {},
   "outputs": [
    {
     "name": "stdout",
     "output_type": "stream",
     "text": [
      "1\n",
      "2\n",
      "3\n",
      "4\n",
      "5\n"
     ]
    }
   ],
   "source": [
    "seq = [1,2,3,4,5]\n",
    "for item in seq:\n",
    "    print(item)"
   ]
  },
  {
   "cell_type": "code",
   "execution_count": 2,
   "id": "602970ca-b1db-4262-919e-6b15612ad90f",
   "metadata": {},
   "outputs": [
    {
     "name": "stdout",
     "output_type": "stream",
     "text": [
      "i is set to 1\n",
      "i is set to 2\n",
      "i is set to 3\n",
      "i is set to 4\n"
     ]
    }
   ],
   "source": [
    "i = 1\n",
    "while i<5:\n",
    "    print(\"i is set to {}\".format(i))\n",
    "    i += 1"
   ]
  },
  {
   "cell_type": "markdown",
   "id": "37a8cca9-033e-41ec-9635-cd333f2dce2c",
   "metadata": {},
   "source": [
    "generator with range()"
   ]
  },
  {
   "cell_type": "code",
   "execution_count": 3,
   "id": "5e623857-52dc-428d-b0e9-f9b79c04a218",
   "metadata": {},
   "outputs": [
    {
     "name": "stdout",
     "output_type": "stream",
     "text": [
      "0\n",
      "1\n",
      "2\n",
      "3\n",
      "4\n",
      "5\n"
     ]
    }
   ],
   "source": [
    "for x in range(0,6):\n",
    "    print(x)"
   ]
  },
  {
   "cell_type": "code",
   "execution_count": 5,
   "id": "c900b5e3-97eb-408b-b12c-b6ec0f0d0f55",
   "metadata": {},
   "outputs": [
    {
     "data": {
      "text/plain": [
       "[0, 1, 2, 3, 4, 5]"
      ]
     },
     "execution_count": 5,
     "metadata": {},
     "output_type": "execute_result"
    }
   ],
   "source": [
    "list(range(0,6))\n"
   ]
  },
  {
   "cell_type": "code",
   "execution_count": 15,
   "id": "27358465-6ea7-4448-aa40-ebdd1b43403d",
   "metadata": {},
   "outputs": [
    {
     "name": "stdout",
     "output_type": "stream",
     "text": [
      "[0, 1, 4, 9, 16, 25, 36, 49, 64, 81]\n"
     ]
    }
   ],
   "source": [
    "out  = []\n",
    "for x in range(10):\n",
    "    out.append(x**2)\n",
    "print(out)"
   ]
  },
  {
   "cell_type": "code",
   "execution_count": 17,
   "id": "15da1fa3-4a96-4286-9d9e-9a62d226dc5c",
   "metadata": {},
   "outputs": [
    {
     "name": "stdout",
     "output_type": "stream",
     "text": [
      "[0]\n",
      "[0, 1]\n",
      "[0, 1, 4]\n",
      "[0, 1, 4, 9]\n",
      "[0, 1, 4, 9, 16]\n",
      "[0, 1, 4, 9, 16, 25]\n",
      "[0, 1, 4, 9, 16, 25, 36]\n",
      "[0, 1, 4, 9, 16, 25, 36, 49]\n",
      "[0, 1, 4, 9, 16, 25, 36, 49, 64]\n",
      "[0, 1, 4, 9, 16, 25, 36, 49, 64, 81]\n"
     ]
    }
   ],
   "source": [
    "out  = []\n",
    "for x in range(10):\n",
    "    out.append(x**2)\n",
    "    print(out)"
   ]
  },
  {
   "cell_type": "code",
   "execution_count": 16,
   "id": "efccc4d6-410b-46c5-a356-b641bf5f352a",
   "metadata": {},
   "outputs": [
    {
     "name": "stdout",
     "output_type": "stream",
     "text": [
      "[0, 2, 4]\n"
     ]
    }
   ],
   "source": [
    "oneMore = []\n",
    "\n",
    "for item in range(0,3):\n",
    "    oneMore.append(item*2)\n",
    "print(oneMore)\n"
   ]
  },
  {
   "cell_type": "code",
   "execution_count": 18,
   "id": "dde80863-057f-4fd8-b7d0-c9a9527d7bc5",
   "metadata": {},
   "outputs": [
    {
     "name": "stdout",
     "output_type": "stream",
     "text": [
      "[0]\n",
      "[0, 2]\n",
      "[0, 2, 4]\n"
     ]
    }
   ],
   "source": [
    "oneMore = []\n",
    "\n",
    "for item in range(0,3):\n",
    "    oneMore.append(item*2)\n",
    "    print(oneMore)"
   ]
  },
  {
   "cell_type": "code",
   "execution_count": 14,
   "id": "041fd09b-b325-4564-a26c-564c6ca2f887",
   "metadata": {},
   "outputs": [
    {
     "name": "stdout",
     "output_type": "stream",
     "text": [
      "[1, 2, 3, 4]\n"
     ]
    }
   ],
   "source": [
    "x = [1,2,3,4]\n",
    "another = []\n",
    "for num in x:\n",
    "    another.append(num)\n",
    "print(another)\n"
   ]
  },
  {
   "cell_type": "code",
   "execution_count": 21,
   "id": "d807dbad-4226-4128-affd-14e0c219429d",
   "metadata": {},
   "outputs": [
    {
     "name": "stdout",
     "output_type": "stream",
     "text": [
      "[2]\n",
      "[2, 4]\n",
      "[2, 4, 6]\n",
      "[2, 4, 6, 8]\n"
     ]
    }
   ],
   "source": [
    "x = [1,2,3,4]\n",
    "another = []\n",
    "for num in x:\n",
    "    another.append(num*2)\n",
    "    print(another)"
   ]
  },
  {
   "cell_type": "code",
   "execution_count": 20,
   "id": "183a05bf-4e88-418e-a7f7-994c94c2cd34",
   "metadata": {},
   "outputs": [
    {
     "data": {
      "text/plain": [
       "[2, 4, 6, 8]"
      ]
     },
     "execution_count": 20,
     "metadata": {},
     "output_type": "execute_result"
    }
   ],
   "source": [
    "[num*2 for num in x]"
   ]
  },
  {
   "cell_type": "markdown",
   "id": "da762611-8f4d-4db5-9faf-dd7eda03d621",
   "metadata": {},
   "source": [
    "functions"
   ]
  },
  {
   "cell_type": "code",
   "execution_count": 24,
   "id": "4b3c96db-2778-4450-8774-a2e02cb2a75c",
   "metadata": {},
   "outputs": [
    {
     "name": "stdout",
     "output_type": "stream",
     "text": [
      "priya\n"
     ]
    }
   ],
   "source": [
    "def my_func(name):\n",
    "    print(name)\n",
    "my_func('priya')"
   ]
  },
  {
   "cell_type": "code",
   "execution_count": 23,
   "id": "19c33004-dab1-4f74-8319-b1d37743fee6",
   "metadata": {},
   "outputs": [
    {
     "ename": "NameError",
     "evalue": "name 'my_func' is not defined",
     "output_type": "error",
     "traceback": [
      "\u001b[31m---------------------------------------------------------------------------\u001b[39m",
      "\u001b[31mNameError\u001b[39m                                 Traceback (most recent call last)",
      "\u001b[36mCell\u001b[39m\u001b[36m \u001b[39m\u001b[32mIn[23]\u001b[39m\u001b[32m, line 1\u001b[39m\n\u001b[32m----> \u001b[39m\u001b[32m1\u001b[39m \u001b[43mmy_func\u001b[49m(\u001b[33m'\u001b[39m\u001b[33mpriya\u001b[39m\u001b[33m'\u001b[39m)\n",
      "\u001b[31mNameError\u001b[39m: name 'my_func' is not defined"
     ]
    }
   ],
   "source": []
  },
  {
   "cell_type": "code",
   "execution_count": null,
   "id": "0135b686-01aa-4d24-9a57-d4599ab2b5de",
   "metadata": {},
   "outputs": [],
   "source": []
  }
 ],
 "metadata": {
  "kernelspec": {
   "display_name": "Python 3 (ipykernel)",
   "language": "python",
   "name": "python3"
  },
  "language_info": {
   "codemirror_mode": {
    "name": "ipython",
    "version": 3
   },
   "file_extension": ".py",
   "mimetype": "text/x-python",
   "name": "python",
   "nbconvert_exporter": "python",
   "pygments_lexer": "ipython3",
   "version": "3.13.3"
  }
 },
 "nbformat": 4,
 "nbformat_minor": 5
}
