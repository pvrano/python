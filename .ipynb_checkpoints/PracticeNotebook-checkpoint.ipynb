{
 "cells": [
  {
   "cell_type": "code",
   "execution_count": 1,
   "id": "8bc59a95-7182-4044-a5dd-cb673a9723e0",
   "metadata": {},
   "outputs": [
    {
     "name": "stdout",
     "output_type": "stream",
     "text": [
      "Hello\n"
     ]
    }
   ],
   "source": [
    "print(\"Hello\")"
   ]
  },
  {
   "cell_type": "code",
   "execution_count": 2,
   "id": "737a56b6-4512-44c1-a937-089e351fecf6",
   "metadata": {},
   "outputs": [
    {
     "name": "stdout",
     "output_type": "stream",
     "text": [
      "priyanka\n"
     ]
    }
   ],
   "source": [
    "num = 12\n",
    "name = 'priyanka'\n",
    "print(name)"
   ]
  },
  {
   "cell_type": "code",
   "execution_count": 6,
   "id": "3fc4d36f-be51-499a-bc0a-2bf14097c885",
   "metadata": {},
   "outputs": [
    {
     "name": "stdout",
     "output_type": "stream",
     "text": [
      "my name is priyanka\n"
     ]
    }
   ],
   "source": [
    "print('my name is {}'.format(name))"
   ]
  },
  {
   "cell_type": "code",
   "execution_count": 8,
   "id": "01956332-9e72-4bbc-bda7-9796775f9edf",
   "metadata": {},
   "outputs": [
    {
     "name": "stdout",
     "output_type": "stream",
     "text": [
      "my name is priyanka and my age is 12\n"
     ]
    }
   ],
   "source": [
    "print('my name is {} and my age is {}'.format(name,num))"
   ]
  },
  {
   "cell_type": "code",
   "execution_count": 12,
   "id": "76bb33fe-1809-40b8-a810-c34a02c7c813",
   "metadata": {},
   "outputs": [
    {
     "name": "stdout",
     "output_type": "stream",
     "text": [
      "I am adding a new string 12 and my age is priyanka\n"
     ]
    }
   ],
   "source": [
    "print('I am adding a new string {one} and my age is {two}'.format(two=name,one=num))"
   ]
  },
  {
   "cell_type": "code",
   "execution_count": null,
   "id": "9a606b3f-5465-4287-9c5c-f177bf75d81d",
   "metadata": {},
   "outputs": [],
   "source": []
  }
 ],
 "metadata": {
  "kernelspec": {
   "display_name": "Python 3 (ipykernel)",
   "language": "python",
   "name": "python3"
  },
  "language_info": {
   "codemirror_mode": {
    "name": "ipython",
    "version": 3
   },
   "file_extension": ".py",
   "mimetype": "text/x-python",
   "name": "python",
   "nbconvert_exporter": "python",
   "pygments_lexer": "ipython3",
   "version": "3.13.3"
  }
 },
 "nbformat": 4,
 "nbformat_minor": 5
}
